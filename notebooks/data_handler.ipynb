{
 "cells": [
  {
   "cell_type": "code",
   "execution_count": 1,
   "metadata": {},
   "outputs": [],
   "source": [
    "import sys\n",
    "import os\n",
    "sys.path.append(os.path.abspath(os.path.join('..')))"
   ]
  },
  {
   "cell_type": "code",
   "execution_count": 2,
   "metadata": {},
   "outputs": [],
   "source": [
    "from scripts.data_handler import *"
   ]
  },
  {
   "cell_type": "code",
   "execution_count": 3,
   "metadata": {},
   "outputs": [],
   "source": [
    "BND_handler = DataHandler(\"../data/BND_historical_data.csv\")\n",
    "SPY_handler = DataHandler(\"../data/SPY_historical_data.csv\")\n",
    "TSLA_handler = DataHandler(\"../data/TSLA_historical_data.csv\")"
   ]
  },
  {
   "cell_type": "code",
   "execution_count": 4,
   "metadata": {},
   "outputs": [],
   "source": [
    "BND_df = BND_handler.load_data()\n",
    "SPY_df = SPY_handler.load_data()\n",
    "TSLA_df = TSLA_handler.load_data()"
   ]
  },
  {
   "cell_type": "code",
   "execution_count": 5,
   "metadata": {},
   "outputs": [
    {
     "data": {
      "text/html": [
       "<div>\n",
       "<style scoped>\n",
       "    .dataframe tbody tr th:only-of-type {\n",
       "        vertical-align: middle;\n",
       "    }\n",
       "\n",
       "    .dataframe tbody tr th {\n",
       "        vertical-align: top;\n",
       "    }\n",
       "\n",
       "    .dataframe thead th {\n",
       "        text-align: right;\n",
       "    }\n",
       "</style>\n",
       "<table border=\"1\" class=\"dataframe\">\n",
       "  <thead>\n",
       "    <tr style=\"text-align: right;\">\n",
       "      <th></th>\n",
       "      <th>Open</th>\n",
       "      <th>High</th>\n",
       "      <th>Low</th>\n",
       "      <th>Close</th>\n",
       "      <th>Adj Close</th>\n",
       "      <th>Volume</th>\n",
       "    </tr>\n",
       "    <tr>\n",
       "      <th>Date</th>\n",
       "      <th></th>\n",
       "      <th></th>\n",
       "      <th></th>\n",
       "      <th></th>\n",
       "      <th></th>\n",
       "      <th></th>\n",
       "    </tr>\n",
       "  </thead>\n",
       "  <tbody>\n",
       "    <tr>\n",
       "      <th>2015-01-02 00:00:00+00:00</th>\n",
       "      <td>82.430000</td>\n",
       "      <td>82.690002</td>\n",
       "      <td>82.419998</td>\n",
       "      <td>82.650002</td>\n",
       "      <td>63.358757</td>\n",
       "      <td>2218800</td>\n",
       "    </tr>\n",
       "    <tr>\n",
       "      <th>2015-01-05 00:00:00+00:00</th>\n",
       "      <td>82.739998</td>\n",
       "      <td>82.919998</td>\n",
       "      <td>82.699997</td>\n",
       "      <td>82.889999</td>\n",
       "      <td>63.542713</td>\n",
       "      <td>5820100</td>\n",
       "    </tr>\n",
       "    <tr>\n",
       "      <th>2015-01-06 00:00:00+00:00</th>\n",
       "      <td>83.029999</td>\n",
       "      <td>83.379997</td>\n",
       "      <td>83.029999</td>\n",
       "      <td>83.129997</td>\n",
       "      <td>63.726761</td>\n",
       "      <td>3887600</td>\n",
       "    </tr>\n",
       "    <tr>\n",
       "      <th>2015-01-07 00:00:00+00:00</th>\n",
       "      <td>83.139999</td>\n",
       "      <td>83.279999</td>\n",
       "      <td>83.050003</td>\n",
       "      <td>83.180000</td>\n",
       "      <td>63.765064</td>\n",
       "      <td>2433400</td>\n",
       "    </tr>\n",
       "    <tr>\n",
       "      <th>2015-01-08 00:00:00+00:00</th>\n",
       "      <td>83.110001</td>\n",
       "      <td>83.110001</td>\n",
       "      <td>82.970001</td>\n",
       "      <td>83.050003</td>\n",
       "      <td>63.665379</td>\n",
       "      <td>1873400</td>\n",
       "    </tr>\n",
       "  </tbody>\n",
       "</table>\n",
       "</div>"
      ],
      "text/plain": [
       "                                Open       High        Low      Close  \\\n",
       "Date                                                                    \n",
       "2015-01-02 00:00:00+00:00  82.430000  82.690002  82.419998  82.650002   \n",
       "2015-01-05 00:00:00+00:00  82.739998  82.919998  82.699997  82.889999   \n",
       "2015-01-06 00:00:00+00:00  83.029999  83.379997  83.029999  83.129997   \n",
       "2015-01-07 00:00:00+00:00  83.139999  83.279999  83.050003  83.180000   \n",
       "2015-01-08 00:00:00+00:00  83.110001  83.110001  82.970001  83.050003   \n",
       "\n",
       "                           Adj Close   Volume  \n",
       "Date                                           \n",
       "2015-01-02 00:00:00+00:00  63.358757  2218800  \n",
       "2015-01-05 00:00:00+00:00  63.542713  5820100  \n",
       "2015-01-06 00:00:00+00:00  63.726761  3887600  \n",
       "2015-01-07 00:00:00+00:00  63.765064  2433400  \n",
       "2015-01-08 00:00:00+00:00  63.665379  1873400  "
      ]
     },
     "metadata": {},
     "output_type": "display_data"
    },
    {
     "data": {
      "text/plain": [
       "Open         0\n",
       "High         0\n",
       "Low          0\n",
       "Close        0\n",
       "Adj Close    0\n",
       "Volume       0\n",
       "dtype: int64"
      ]
     },
     "metadata": {},
     "output_type": "display_data"
    }
   ],
   "source": [
    "BND_handler.process_data()"
   ]
  },
  {
   "cell_type": "code",
   "execution_count": 6,
   "metadata": {},
   "outputs": [],
   "source": [
    "norm_BND_df = BND_handler.normalize_data()\n",
    "norm_BND_df.to_csv(\"../data/normalized_BND_historical_data.csv\", index = False)\n"
   ]
  },
  {
   "cell_type": "code",
   "execution_count": 7,
   "metadata": {},
   "outputs": [
    {
     "data": {
      "text/html": [
       "<div>\n",
       "<style scoped>\n",
       "    .dataframe tbody tr th:only-of-type {\n",
       "        vertical-align: middle;\n",
       "    }\n",
       "\n",
       "    .dataframe tbody tr th {\n",
       "        vertical-align: top;\n",
       "    }\n",
       "\n",
       "    .dataframe thead th {\n",
       "        text-align: right;\n",
       "    }\n",
       "</style>\n",
       "<table border=\"1\" class=\"dataframe\">\n",
       "  <thead>\n",
       "    <tr style=\"text-align: right;\">\n",
       "      <th></th>\n",
       "      <th>Open</th>\n",
       "      <th>High</th>\n",
       "      <th>Low</th>\n",
       "      <th>Close</th>\n",
       "      <th>Adj Close</th>\n",
       "      <th>Volume</th>\n",
       "    </tr>\n",
       "    <tr>\n",
       "      <th>Date</th>\n",
       "      <th></th>\n",
       "      <th></th>\n",
       "      <th></th>\n",
       "      <th></th>\n",
       "      <th></th>\n",
       "      <th></th>\n",
       "    </tr>\n",
       "  </thead>\n",
       "  <tbody>\n",
       "    <tr>\n",
       "      <th>2015-01-02 00:00:00+00:00</th>\n",
       "      <td>206.380005</td>\n",
       "      <td>206.880005</td>\n",
       "      <td>204.179993</td>\n",
       "      <td>205.429993</td>\n",
       "      <td>173.173737</td>\n",
       "      <td>121465900</td>\n",
       "    </tr>\n",
       "    <tr>\n",
       "      <th>2015-01-05 00:00:00+00:00</th>\n",
       "      <td>204.169998</td>\n",
       "      <td>204.369995</td>\n",
       "      <td>201.350006</td>\n",
       "      <td>201.720001</td>\n",
       "      <td>170.046310</td>\n",
       "      <td>169632600</td>\n",
       "    </tr>\n",
       "    <tr>\n",
       "      <th>2015-01-06 00:00:00+00:00</th>\n",
       "      <td>202.089996</td>\n",
       "      <td>202.720001</td>\n",
       "      <td>198.860001</td>\n",
       "      <td>199.820007</td>\n",
       "      <td>168.444641</td>\n",
       "      <td>209151400</td>\n",
       "    </tr>\n",
       "    <tr>\n",
       "      <th>2015-01-07 00:00:00+00:00</th>\n",
       "      <td>201.419998</td>\n",
       "      <td>202.720001</td>\n",
       "      <td>200.880005</td>\n",
       "      <td>202.309998</td>\n",
       "      <td>170.543686</td>\n",
       "      <td>125346700</td>\n",
       "    </tr>\n",
       "    <tr>\n",
       "      <th>2015-01-08 00:00:00+00:00</th>\n",
       "      <td>204.009995</td>\n",
       "      <td>206.160004</td>\n",
       "      <td>203.990005</td>\n",
       "      <td>205.899994</td>\n",
       "      <td>173.569977</td>\n",
       "      <td>147217800</td>\n",
       "    </tr>\n",
       "  </tbody>\n",
       "</table>\n",
       "</div>"
      ],
      "text/plain": [
       "                                 Open        High         Low       Close  \\\n",
       "Date                                                                        \n",
       "2015-01-02 00:00:00+00:00  206.380005  206.880005  204.179993  205.429993   \n",
       "2015-01-05 00:00:00+00:00  204.169998  204.369995  201.350006  201.720001   \n",
       "2015-01-06 00:00:00+00:00  202.089996  202.720001  198.860001  199.820007   \n",
       "2015-01-07 00:00:00+00:00  201.419998  202.720001  200.880005  202.309998   \n",
       "2015-01-08 00:00:00+00:00  204.009995  206.160004  203.990005  205.899994   \n",
       "\n",
       "                            Adj Close     Volume  \n",
       "Date                                              \n",
       "2015-01-02 00:00:00+00:00  173.173737  121465900  \n",
       "2015-01-05 00:00:00+00:00  170.046310  169632600  \n",
       "2015-01-06 00:00:00+00:00  168.444641  209151400  \n",
       "2015-01-07 00:00:00+00:00  170.543686  125346700  \n",
       "2015-01-08 00:00:00+00:00  173.569977  147217800  "
      ]
     },
     "metadata": {},
     "output_type": "display_data"
    },
    {
     "data": {
      "text/plain": [
       "Open         0\n",
       "High         0\n",
       "Low          0\n",
       "Close        0\n",
       "Adj Close    0\n",
       "Volume       0\n",
       "dtype: int64"
      ]
     },
     "metadata": {},
     "output_type": "display_data"
    }
   ],
   "source": [
    "SPY_handler.process_data()"
   ]
  },
  {
   "cell_type": "code",
   "execution_count": 8,
   "metadata": {},
   "outputs": [],
   "source": [
    "norm_SPY_df = SPY_handler.normalize_data()\n",
    "norm_SPY_df.to_csv(\"../data/normalized_SPY_historical_data.csv\", index = False)"
   ]
  },
  {
   "cell_type": "code",
   "execution_count": 9,
   "metadata": {},
   "outputs": [
    {
     "data": {
      "text/html": [
       "<div>\n",
       "<style scoped>\n",
       "    .dataframe tbody tr th:only-of-type {\n",
       "        vertical-align: middle;\n",
       "    }\n",
       "\n",
       "    .dataframe tbody tr th {\n",
       "        vertical-align: top;\n",
       "    }\n",
       "\n",
       "    .dataframe thead th {\n",
       "        text-align: right;\n",
       "    }\n",
       "</style>\n",
       "<table border=\"1\" class=\"dataframe\">\n",
       "  <thead>\n",
       "    <tr style=\"text-align: right;\">\n",
       "      <th></th>\n",
       "      <th>Open</th>\n",
       "      <th>High</th>\n",
       "      <th>Low</th>\n",
       "      <th>Close</th>\n",
       "      <th>Adj Close</th>\n",
       "      <th>Volume</th>\n",
       "    </tr>\n",
       "    <tr>\n",
       "      <th>Date</th>\n",
       "      <th></th>\n",
       "      <th></th>\n",
       "      <th></th>\n",
       "      <th></th>\n",
       "      <th></th>\n",
       "      <th></th>\n",
       "    </tr>\n",
       "  </thead>\n",
       "  <tbody>\n",
       "    <tr>\n",
       "      <th>2015-01-02 00:00:00+00:00</th>\n",
       "      <td>14.858000</td>\n",
       "      <td>14.883333</td>\n",
       "      <td>14.217333</td>\n",
       "      <td>14.620667</td>\n",
       "      <td>14.620667</td>\n",
       "      <td>71466000</td>\n",
       "    </tr>\n",
       "    <tr>\n",
       "      <th>2015-01-05 00:00:00+00:00</th>\n",
       "      <td>14.303333</td>\n",
       "      <td>14.433333</td>\n",
       "      <td>13.810667</td>\n",
       "      <td>14.006000</td>\n",
       "      <td>14.006000</td>\n",
       "      <td>80527500</td>\n",
       "    </tr>\n",
       "    <tr>\n",
       "      <th>2015-01-06 00:00:00+00:00</th>\n",
       "      <td>14.004000</td>\n",
       "      <td>14.280000</td>\n",
       "      <td>13.614000</td>\n",
       "      <td>14.085333</td>\n",
       "      <td>14.085333</td>\n",
       "      <td>93928500</td>\n",
       "    </tr>\n",
       "    <tr>\n",
       "      <th>2015-01-07 00:00:00+00:00</th>\n",
       "      <td>14.223333</td>\n",
       "      <td>14.318667</td>\n",
       "      <td>13.985333</td>\n",
       "      <td>14.063333</td>\n",
       "      <td>14.063333</td>\n",
       "      <td>44526000</td>\n",
       "    </tr>\n",
       "    <tr>\n",
       "      <th>2015-01-08 00:00:00+00:00</th>\n",
       "      <td>14.187333</td>\n",
       "      <td>14.253333</td>\n",
       "      <td>14.000667</td>\n",
       "      <td>14.041333</td>\n",
       "      <td>14.041333</td>\n",
       "      <td>51637500</td>\n",
       "    </tr>\n",
       "  </tbody>\n",
       "</table>\n",
       "</div>"
      ],
      "text/plain": [
       "                                Open       High        Low      Close  \\\n",
       "Date                                                                    \n",
       "2015-01-02 00:00:00+00:00  14.858000  14.883333  14.217333  14.620667   \n",
       "2015-01-05 00:00:00+00:00  14.303333  14.433333  13.810667  14.006000   \n",
       "2015-01-06 00:00:00+00:00  14.004000  14.280000  13.614000  14.085333   \n",
       "2015-01-07 00:00:00+00:00  14.223333  14.318667  13.985333  14.063333   \n",
       "2015-01-08 00:00:00+00:00  14.187333  14.253333  14.000667  14.041333   \n",
       "\n",
       "                           Adj Close    Volume  \n",
       "Date                                            \n",
       "2015-01-02 00:00:00+00:00  14.620667  71466000  \n",
       "2015-01-05 00:00:00+00:00  14.006000  80527500  \n",
       "2015-01-06 00:00:00+00:00  14.085333  93928500  \n",
       "2015-01-07 00:00:00+00:00  14.063333  44526000  \n",
       "2015-01-08 00:00:00+00:00  14.041333  51637500  "
      ]
     },
     "metadata": {},
     "output_type": "display_data"
    },
    {
     "data": {
      "text/plain": [
       "Open         0\n",
       "High         0\n",
       "Low          0\n",
       "Close        0\n",
       "Adj Close    0\n",
       "Volume       0\n",
       "dtype: int64"
      ]
     },
     "metadata": {},
     "output_type": "display_data"
    }
   ],
   "source": [
    "TSLA_handler.process_data()"
   ]
  },
  {
   "cell_type": "code",
   "execution_count": 10,
   "metadata": {},
   "outputs": [],
   "source": [
    "norm_TSLA_df = TSLA_handler.normalize_data()\n",
    "norm_TSLA_df.to_csv(\"../data/normalized_TSLA_historical_data.csv\", index = False)"
   ]
  }
 ],
 "metadata": {
  "kernelspec": {
   "display_name": "week_11",
   "language": "python",
   "name": "python3"
  },
  "language_info": {
   "codemirror_mode": {
    "name": "ipython",
    "version": 3
   },
   "file_extension": ".py",
   "mimetype": "text/x-python",
   "name": "python",
   "nbconvert_exporter": "python",
   "pygments_lexer": "ipython3",
   "version": "3.12.4"
  }
 },
 "nbformat": 4,
 "nbformat_minor": 2
}
