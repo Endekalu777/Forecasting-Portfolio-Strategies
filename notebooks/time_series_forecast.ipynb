{
 "cells": [
  {
   "cell_type": "code",
   "execution_count": 1,
   "metadata": {},
   "outputs": [],
   "source": [
    "import sys\n",
    "import os\n",
    "sys.path.append(os.path.abspath(os.path.join('..')))"
   ]
  },
  {
   "cell_type": "code",
   "execution_count": 2,
   "metadata": {},
   "outputs": [],
   "source": [
    "from scripts.time_series_forecast import *"
   ]
  },
  {
   "cell_type": "code",
   "execution_count": 3,
   "metadata": {},
   "outputs": [],
   "source": [
    "forecaster = TimeSeriesForecaster(\"../data/TSLA_historical_data.csv\")"
   ]
  },
  {
   "cell_type": "code",
   "execution_count": 4,
   "metadata": {},
   "outputs": [],
   "source": [
    "train_data, test_data = forecaster.split_data()"
   ]
  },
  {
   "cell_type": "code",
   "execution_count": 5,
   "metadata": {},
   "outputs": [
    {
     "name": "stdout",
     "output_type": "stream",
     "text": [
      "Performing stepwise search to minimize aic\n",
      " ARIMA(0,1,0)(0,1,0)[5]             : AIC=9596.598, Time=0.22 sec\n",
      " ARIMA(1,1,0)(1,1,0)[5]             : AIC=8975.066, Time=0.69 sec\n",
      " ARIMA(0,1,1)(0,1,1)[5]             : AIC=inf, Time=3.28 sec\n",
      " ARIMA(1,1,0)(0,1,0)[5]             : AIC=9579.357, Time=0.19 sec\n",
      " ARIMA(1,1,0)(2,1,0)[5]             : AIC=8743.016, Time=0.87 sec\n",
      " ARIMA(1,1,0)(2,1,1)[5]             : AIC=inf, Time=7.75 sec\n",
      " ARIMA(1,1,0)(1,1,1)[5]             : AIC=inf, Time=2.01 sec\n",
      " ARIMA(0,1,0)(2,1,0)[5]             : AIC=8753.278, Time=0.74 sec\n",
      " ARIMA(2,1,0)(2,1,0)[5]             : AIC=8743.177, Time=1.27 sec\n",
      " ARIMA(1,1,1)(2,1,0)[5]             : AIC=8744.257, Time=2.57 sec\n",
      " ARIMA(0,1,1)(2,1,0)[5]             : AIC=8742.381, Time=1.52 sec\n",
      " ARIMA(0,1,1)(1,1,0)[5]             : AIC=8973.198, Time=1.48 sec\n",
      " ARIMA(0,1,1)(2,1,1)[5]             : AIC=inf, Time=2.30 sec\n",
      " ARIMA(0,1,1)(1,1,1)[5]             : AIC=inf, Time=2.64 sec\n",
      " ARIMA(0,1,2)(2,1,0)[5]             : AIC=8744.080, Time=1.01 sec\n",
      " ARIMA(1,1,2)(2,1,0)[5]             : AIC=8745.577, Time=5.22 sec\n",
      " ARIMA(0,1,1)(2,1,0)[5] intercept   : AIC=8744.380, Time=3.02 sec\n",
      "\n",
      "Best model:  ARIMA(0,1,1)(2,1,0)[5]          \n",
      "Total fit time: 36.796 seconds\n"
     ]
    },
    {
     "data": {
      "text/plain": [
       "{'maxiter': 50,\n",
       " 'method': 'lbfgs',\n",
       " 'order': (0, 1, 1),\n",
       " 'out_of_sample_size': 0,\n",
       " 'scoring': 'mse',\n",
       " 'scoring_args': {},\n",
       " 'seasonal_order': (2, 1, 0, 5),\n",
       " 'start_params': None,\n",
       " 'suppress_warnings': True,\n",
       " 'trend': None,\n",
       " 'with_intercept': False}"
      ]
     },
     "execution_count": 5,
     "metadata": {},
     "output_type": "execute_result"
    }
   ],
   "source": [
    "forecaster.find_best_parameters()"
   ]
  },
  {
   "cell_type": "code",
   "execution_count": 6,
   "metadata": {},
   "outputs": [
    {
     "name": "stderr",
     "output_type": "stream",
     "text": [
      "c:\\Users\\Ashis\\Desktop\\KAIM Program 2\\week_11\\week_11\\Lib\\site-packages\\statsmodels\\tsa\\base\\tsa_model.py:473: ValueWarning: A date index has been provided, but it has no associated frequency information and so will be ignored when e.g. forecasting.\n",
      "  self._init_dates(dates, freq)\n",
      "c:\\Users\\Ashis\\Desktop\\KAIM Program 2\\week_11\\week_11\\Lib\\site-packages\\statsmodels\\tsa\\base\\tsa_model.py:473: ValueWarning: A date index has been provided, but it has no associated frequency information and so will be ignored when e.g. forecasting.\n",
      "  self._init_dates(dates, freq)\n"
     ]
    }
   ],
   "source": [
    "forecaster.train_model()"
   ]
  }
 ],
 "metadata": {
  "kernelspec": {
   "display_name": "week_11",
   "language": "python",
   "name": "python3"
  },
  "language_info": {
   "codemirror_mode": {
    "name": "ipython",
    "version": 3
   },
   "file_extension": ".py",
   "mimetype": "text/x-python",
   "name": "python",
   "nbconvert_exporter": "python",
   "pygments_lexer": "ipython3",
   "version": "3.12.4"
  }
 },
 "nbformat": 4,
 "nbformat_minor": 2
}
