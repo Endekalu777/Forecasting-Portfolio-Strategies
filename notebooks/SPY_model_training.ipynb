{
 "cells": [
  {
   "cell_type": "code",
   "execution_count": 1,
   "metadata": {},
   "outputs": [],
   "source": [
    "import sys\n",
    "import os\n",
    "sys.path.append(os.path.abspath(os.path.join('..')))"
   ]
  },
  {
   "cell_type": "code",
   "execution_count": 2,
   "metadata": {},
   "outputs": [],
   "source": [
    "from scripts.time_series_model_training import *"
   ]
  },
  {
   "cell_type": "code",
   "execution_count": 3,
   "metadata": {},
   "outputs": [],
   "source": [
    "forecaster = TimeSeriesForecaster(\"../data/normalized_SPY_historical_data.csv\")"
   ]
  },
  {
   "cell_type": "code",
   "execution_count": 4,
   "metadata": {},
   "outputs": [],
   "source": [
    "SPY_df = forecaster._load_data()"
   ]
  },
  {
   "cell_type": "code",
   "execution_count": 5,
   "metadata": {},
   "outputs": [],
   "source": [
    "forecaster.split_data()"
   ]
  },
  {
   "cell_type": "code",
   "execution_count": 6,
   "metadata": {},
   "outputs": [],
   "source": [
    "xs, ys = forecaster.create_sequences(SPY_df, 90)"
   ]
  },
  {
   "cell_type": "code",
   "execution_count": 7,
   "metadata": {},
   "outputs": [
    {
     "name": "stdout",
     "output_type": "stream",
     "text": [
      "Performing stepwise search to minimize aic\n",
      " ARIMA(0,1,0)(0,0,0)[0] intercept   : AIC=-5918.416, Time=0.76 sec\n",
      " ARIMA(1,1,0)(0,0,0)[0] intercept   : AIC=-5963.330, Time=0.54 sec\n",
      " ARIMA(0,1,1)(0,0,0)[0] intercept   : AIC=-5955.149, Time=6.00 sec\n",
      " ARIMA(0,1,0)(0,0,0)[0]             : AIC=-5917.485, Time=0.41 sec\n",
      " ARIMA(2,1,0)(0,0,0)[0] intercept   : AIC=-5974.855, Time=13.48 sec\n",
      " ARIMA(3,1,0)(0,0,0)[0] intercept   : AIC=-5974.413, Time=24.26 sec\n",
      " ARIMA(2,1,1)(0,0,0)[0] intercept   : AIC=-5973.472, Time=21.71 sec\n",
      " ARIMA(1,1,1)(0,0,0)[0] intercept   : AIC=-5969.036, Time=9.72 sec\n",
      " ARIMA(3,1,1)(0,0,0)[0] intercept   : AIC=-5971.957, Time=12.14 sec\n",
      " ARIMA(2,1,0)(0,0,0)[0]             : AIC=-5973.439, Time=6.42 sec\n",
      "\n",
      "Best model:  ARIMA(2,1,0)(0,0,0)[0] intercept\n",
      "Total fit time: 95.465 seconds\n"
     ]
    }
   ],
   "source": [
    "forecaster.train_arima()"
   ]
  }
 ],
 "metadata": {
  "kernelspec": {
   "display_name": "week_11",
   "language": "python",
   "name": "python3"
  },
  "language_info": {
   "codemirror_mode": {
    "name": "ipython",
    "version": 3
   },
   "file_extension": ".py",
   "mimetype": "text/x-python",
   "name": "python",
   "nbconvert_exporter": "python",
   "pygments_lexer": "ipython3",
   "version": "3.12.4"
  }
 },
 "nbformat": 4,
 "nbformat_minor": 2
}
