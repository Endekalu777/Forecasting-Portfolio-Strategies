{
 "cells": [
  {
   "cell_type": "code",
   "execution_count": 1,
   "metadata": {},
   "outputs": [],
   "source": [
    "import sys\n",
    "import os\n",
    "sys.path.append(os.path.abspath(os.path.join('..')))"
   ]
  },
  {
   "cell_type": "code",
   "execution_count": 2,
   "metadata": {},
   "outputs": [],
   "source": [
    "from scripts.time_series_model_training import *"
   ]
  },
  {
   "cell_type": "code",
   "execution_count": 3,
   "metadata": {},
   "outputs": [],
   "source": [
    "forecaster = TimeSeriesForecaster(\"../data/normalized_SPY_historical_data.csv\")"
   ]
  },
  {
   "cell_type": "code",
   "execution_count": 4,
   "metadata": {},
   "outputs": [],
   "source": [
    "SPY_df = forecaster._load_data()"
   ]
  },
  {
   "cell_type": "code",
   "execution_count": 5,
   "metadata": {},
   "outputs": [],
   "source": [
    "forecaster.split_data()"
   ]
  },
  {
   "cell_type": "code",
   "execution_count": 6,
   "metadata": {},
   "outputs": [],
   "source": [
    "xs, ys = forecaster.create_sequences(SPY_df, 90)"
   ]
  },
  {
   "cell_type": "code",
   "execution_count": 7,
   "metadata": {},
   "outputs": [
    {
     "name": "stdout",
     "output_type": "stream",
     "text": [
      "Performing stepwise search to minimize aic\n",
      " ARIMA(0,1,0)(0,0,0)[0] intercept   : AIC=-5918.416, Time=0.71 sec\n",
      " ARIMA(1,1,0)(0,0,0)[0] intercept   : AIC=-5963.330, Time=0.97 sec\n",
      " ARIMA(0,1,1)(0,0,0)[0] intercept   : AIC=-5955.149, Time=5.90 sec\n",
      " ARIMA(0,1,0)(0,0,0)[0]             : AIC=-5917.485, Time=0.40 sec\n",
      " ARIMA(2,1,0)(0,0,0)[0] intercept   : AIC=-5974.855, Time=13.05 sec\n",
      " ARIMA(3,1,0)(0,0,0)[0] intercept   : AIC=-5974.413, Time=28.35 sec\n",
      " ARIMA(2,1,1)(0,0,0)[0] intercept   : AIC=-5973.472, Time=37.09 sec\n",
      " ARIMA(1,1,1)(0,0,0)[0] intercept   : AIC=-5969.036, Time=15.65 sec\n",
      " ARIMA(3,1,1)(0,0,0)[0] intercept   : AIC=-5971.957, Time=18.21 sec\n",
      " ARIMA(2,1,0)(0,0,0)[0]             : AIC=-5973.439, Time=8.08 sec\n",
      "\n",
      "Best model:  ARIMA(2,1,0)(0,0,0)[0] intercept\n",
      "Total fit time: 128.415 seconds\n"
     ]
    }
   ],
   "source": [
    "forecaster.train_arima()"
   ]
  },
  {
   "cell_type": "code",
   "execution_count": 8,
   "metadata": {},
   "outputs": [
    {
     "name": "stdout",
     "output_type": "stream",
     "text": [
      "Performing stepwise search to minimize aic\n",
      " ARIMA(0,1,0)(0,1,0)[5]             : AIC=-4884.220, Time=0.33 sec\n",
      " ARIMA(1,1,0)(1,1,0)[5]             : AIC=-5274.967, Time=12.81 sec\n",
      " ARIMA(0,1,1)(0,1,1)[5]             : AIC=inf, Time=27.10 sec\n",
      " ARIMA(1,1,0)(0,1,0)[5]             : AIC=-4891.168, Time=0.45 sec\n",
      " ARIMA(1,1,0)(2,1,0)[5]             : AIC=-5422.025, Time=26.78 sec\n",
      " ARIMA(1,1,0)(2,1,1)[5]             : AIC=inf, Time=43.48 sec\n",
      " ARIMA(1,1,0)(1,1,1)[5]             : AIC=inf, Time=28.14 sec\n",
      " ARIMA(0,1,0)(2,1,0)[5]             : AIC=-5364.674, Time=4.06 sec\n",
      " ARIMA(2,1,0)(2,1,0)[5]             : AIC=-5438.800, Time=26.09 sec\n",
      " ARIMA(2,1,0)(1,1,0)[5]             : AIC=-5285.884, Time=16.69 sec\n",
      " ARIMA(2,1,0)(2,1,1)[5]             : AIC=inf, Time=51.71 sec\n",
      " ARIMA(2,1,0)(1,1,1)[5]             : AIC=inf, Time=41.11 sec\n",
      " ARIMA(3,1,0)(2,1,0)[5]             : AIC=-5437.897, Time=42.27 sec\n",
      " ARIMA(2,1,1)(2,1,0)[5]             : AIC=-5461.535, Time=27.55 sec\n",
      " ARIMA(2,1,1)(1,1,0)[5]             : AIC=inf, Time=24.94 sec\n",
      " ARIMA(2,1,1)(2,1,1)[5]             : AIC=inf, Time=36.00 sec\n",
      " ARIMA(2,1,1)(1,1,1)[5]             : AIC=inf, Time=4.30 sec\n",
      " ARIMA(1,1,1)(2,1,0)[5]             : AIC=-5431.695, Time=4.32 sec\n",
      " ARIMA(3,1,1)(2,1,0)[5]             : AIC=-5466.472, Time=8.50 sec\n",
      " ARIMA(3,1,1)(1,1,0)[5]             : AIC=-5346.259, Time=4.41 sec\n",
      " ARIMA(3,1,1)(2,1,1)[5]             : AIC=inf, Time=6.41 sec\n",
      " ARIMA(3,1,1)(1,1,1)[5]             : AIC=inf, Time=5.10 sec\n",
      " ARIMA(3,1,2)(2,1,0)[5]             : AIC=-5439.041, Time=4.77 sec\n",
      " ARIMA(2,1,2)(2,1,0)[5]             : AIC=-5451.201, Time=4.73 sec\n",
      " ARIMA(3,1,1)(2,1,0)[5] intercept   : AIC=-5433.403, Time=6.48 sec\n",
      "\n",
      "Best model:  ARIMA(3,1,1)(2,1,0)[5]          \n",
      "Total fit time: 458.556 seconds\n"
     ]
    }
   ],
   "source": [
    "forecaster.train_sarima()"
   ]
  }
 ],
 "metadata": {
  "kernelspec": {
   "display_name": "week_11",
   "language": "python",
   "name": "python3"
  },
  "language_info": {
   "codemirror_mode": {
    "name": "ipython",
    "version": 3
   },
   "file_extension": ".py",
   "mimetype": "text/x-python",
   "name": "python",
   "nbconvert_exporter": "python",
   "pygments_lexer": "ipython3",
   "version": "3.12.4"
  }
 },
 "nbformat": 4,
 "nbformat_minor": 2
}
