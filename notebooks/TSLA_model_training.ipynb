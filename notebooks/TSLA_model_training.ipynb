{
 "cells": [
  {
   "cell_type": "code",
   "execution_count": 1,
   "metadata": {},
   "outputs": [],
   "source": [
    "import sys\n",
    "import os\n",
    "sys.path.append(os.path.abspath(os.path.join('..')))"
   ]
  },
  {
   "cell_type": "code",
   "execution_count": 2,
   "metadata": {},
   "outputs": [],
   "source": [
    "from scripts.time_series_model_training import *"
   ]
  },
  {
   "cell_type": "code",
   "execution_count": 3,
   "metadata": {},
   "outputs": [],
   "source": [
    "forecaster = TimeSeriesForecaster(\"../data/normalized_TSLA_historical_data.csv\")"
   ]
  },
  {
   "cell_type": "code",
   "execution_count": 4,
   "metadata": {},
   "outputs": [],
   "source": [
    "TSLA_df = forecaster._load_data()"
   ]
  },
  {
   "cell_type": "code",
   "execution_count": 5,
   "metadata": {},
   "outputs": [],
   "source": [
    "forecaster.split_data()"
   ]
  },
  {
   "cell_type": "code",
   "execution_count": 6,
   "metadata": {},
   "outputs": [],
   "source": [
    "xs, ys = forecaster.create_sequences(TSLA_df, 90)"
   ]
  },
  {
   "cell_type": "code",
   "execution_count": 7,
   "metadata": {},
   "outputs": [
    {
     "name": "stdout",
     "output_type": "stream",
     "text": [
      "Performing stepwise search to minimize aic\n",
      " ARIMA(0,1,0)(0,0,0)[0] intercept   : AIC=-6752.240, Time=0.57 sec\n",
      " ARIMA(1,1,0)(0,0,0)[0] intercept   : AIC=-6760.377, Time=1.96 sec\n",
      " ARIMA(0,1,1)(0,0,0)[0] intercept   : AIC=-6760.487, Time=3.42 sec\n",
      " ARIMA(0,1,0)(0,0,0)[0]             : AIC=-6752.041, Time=0.32 sec\n",
      " ARIMA(1,1,1)(0,0,0)[0] intercept   : AIC=-6758.440, Time=3.58 sec\n",
      " ARIMA(0,1,2)(0,0,0)[0] intercept   : AIC=-6758.519, Time=9.31 sec\n",
      " ARIMA(1,1,2)(0,0,0)[0] intercept   : AIC=-6756.737, Time=12.60 sec\n",
      " ARIMA(0,1,1)(0,0,0)[0]             : AIC=-6759.888, Time=4.99 sec\n",
      "\n",
      "Best model:  ARIMA(0,1,1)(0,0,0)[0] intercept\n",
      "Total fit time: 36.788 seconds\n"
     ]
    }
   ],
   "source": [
    "forecaster.train_arima()"
   ]
  },
  {
   "cell_type": "code",
   "execution_count": 8,
   "metadata": {},
   "outputs": [
    {
     "name": "stdout",
     "output_type": "stream",
     "text": [
      "Performing stepwise search to minimize aic\n",
      " ARIMA(0,1,0)(0,1,0)[5]             : AIC=-5448.786, Time=0.64 sec\n",
      " ARIMA(1,1,0)(1,1,0)[5]             : AIC=-6070.317, Time=8.97 sec\n",
      " ARIMA(0,1,1)(0,1,1)[5]             : AIC=inf, Time=37.19 sec\n",
      " ARIMA(1,1,0)(0,1,0)[5]             : AIC=-5466.027, Time=0.75 sec\n",
      " ARIMA(1,1,0)(2,1,0)[5]             : AIC=-6302.368, Time=17.04 sec\n",
      " ARIMA(1,1,0)(2,1,1)[5]             : AIC=inf, Time=53.38 sec\n",
      " ARIMA(1,1,0)(1,1,1)[5]             : AIC=inf, Time=31.34 sec\n",
      " ARIMA(0,1,0)(2,1,0)[5]             : AIC=-6292.092, Time=9.82 sec\n",
      " ARIMA(2,1,0)(2,1,0)[5]             : AIC=-6302.207, Time=19.70 sec\n",
      " ARIMA(1,1,1)(2,1,0)[5]             : AIC=-6300.977, Time=19.02 sec\n",
      " ARIMA(0,1,1)(2,1,0)[5]             : AIC=-6303.002, Time=11.14 sec\n",
      " ARIMA(0,1,1)(1,1,0)[5]             : AIC=-6072.185, Time=10.74 sec\n",
      " ARIMA(0,1,1)(2,1,1)[5]             : AIC=inf, Time=39.41 sec\n",
      " ARIMA(0,1,1)(1,1,1)[5]             : AIC=inf, Time=52.62 sec\n",
      " ARIMA(0,1,2)(2,1,0)[5]             : AIC=-6301.303, Time=22.71 sec\n",
      " ARIMA(1,1,2)(2,1,0)[5]             : AIC=-6299.806, Time=49.83 sec\n",
      " ARIMA(0,1,1)(2,1,0)[5] intercept   : AIC=-6301.003, Time=22.88 sec\n",
      "\n",
      "Best model:  ARIMA(0,1,1)(2,1,0)[5]          \n",
      "Total fit time: 407.294 seconds\n"
     ]
    }
   ],
   "source": [
    "forecaster.train_sarima()"
   ]
  },
  {
   "cell_type": "code",
   "execution_count": null,
   "metadata": {},
   "outputs": [],
   "source": []
  }
 ],
 "metadata": {
  "kernelspec": {
   "display_name": "week_11",
   "language": "python",
   "name": "python3"
  },
  "language_info": {
   "codemirror_mode": {
    "name": "ipython",
    "version": 3
   },
   "file_extension": ".py",
   "mimetype": "text/x-python",
   "name": "python",
   "nbconvert_exporter": "python",
   "pygments_lexer": "ipython3",
   "version": "3.12.4"
  }
 },
 "nbformat": 4,
 "nbformat_minor": 2
}
