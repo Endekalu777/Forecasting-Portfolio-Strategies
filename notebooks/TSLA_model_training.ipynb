{
 "cells": [
  {
   "cell_type": "code",
   "execution_count": 1,
   "metadata": {},
   "outputs": [],
   "source": [
    "import sys\n",
    "import os\n",
    "sys.path.append(os.path.abspath(os.path.join('..')))"
   ]
  },
  {
   "cell_type": "code",
   "execution_count": 2,
   "metadata": {},
   "outputs": [],
   "source": [
    "from scripts.time_series_model_training import *"
   ]
  },
  {
   "cell_type": "code",
   "execution_count": 3,
   "metadata": {},
   "outputs": [],
   "source": [
    "forecaster = TimeSeriesForecaster(\"../data/normalized_TSLA_historical_data.csv\")"
   ]
  },
  {
   "cell_type": "code",
   "execution_count": 4,
   "metadata": {},
   "outputs": [],
   "source": [
    "TSLA_df = forecaster._load_data()"
   ]
  },
  {
   "cell_type": "code",
   "execution_count": 5,
   "metadata": {},
   "outputs": [],
   "source": [
    "forecaster.split_data()"
   ]
  },
  {
   "cell_type": "code",
   "execution_count": 6,
   "metadata": {},
   "outputs": [],
   "source": [
    "xs, ys = forecaster.create_sequences(TSLA_df, 90)"
   ]
  },
  {
   "cell_type": "code",
   "execution_count": 7,
   "metadata": {},
   "outputs": [
    {
     "name": "stdout",
     "output_type": "stream",
     "text": [
      "Performing stepwise search to minimize aic\n",
      " ARIMA(0,1,0)(0,0,0)[0] intercept   : AIC=-6752.240, Time=0.62 sec\n",
      " ARIMA(1,1,0)(0,0,0)[0] intercept   : AIC=-6760.377, Time=1.45 sec\n",
      " ARIMA(0,1,1)(0,0,0)[0] intercept   : AIC=-6760.487, Time=3.78 sec\n",
      " ARIMA(0,1,0)(0,0,0)[0]             : AIC=-6752.041, Time=0.29 sec\n",
      " ARIMA(1,1,1)(0,0,0)[0] intercept   : AIC=-6758.440, Time=3.70 sec\n",
      " ARIMA(0,1,2)(0,0,0)[0] intercept   : AIC=-6758.519, Time=9.14 sec\n",
      " ARIMA(1,1,2)(0,0,0)[0] intercept   : AIC=-6756.737, Time=13.62 sec\n",
      " ARIMA(0,1,1)(0,0,0)[0]             : AIC=-6759.888, Time=5.95 sec\n",
      "\n",
      "Best model:  ARIMA(0,1,1)(0,0,0)[0] intercept\n",
      "Total fit time: 38.567 seconds\n"
     ]
    }
   ],
   "source": [
    "forecaster.train_arima()"
   ]
  },
  {
   "cell_type": "code",
   "execution_count": null,
   "metadata": {},
   "outputs": [],
   "source": []
  }
 ],
 "metadata": {
  "kernelspec": {
   "display_name": "week_11",
   "language": "python",
   "name": "python3"
  },
  "language_info": {
   "codemirror_mode": {
    "name": "ipython",
    "version": 3
   },
   "file_extension": ".py",
   "mimetype": "text/x-python",
   "name": "python",
   "nbconvert_exporter": "python",
   "pygments_lexer": "ipython3",
   "version": "3.12.4"
  }
 },
 "nbformat": 4,
 "nbformat_minor": 2
}
