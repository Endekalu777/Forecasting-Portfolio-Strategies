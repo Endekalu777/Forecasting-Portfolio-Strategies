{
 "cells": [
  {
   "cell_type": "code",
   "execution_count": 1,
   "metadata": {},
   "outputs": [],
   "source": [
    "import sys\n",
    "import os\n",
    "sys.path.append(os.path.abspath(os.path.join('..')))"
   ]
  },
  {
   "cell_type": "code",
   "execution_count": 2,
   "metadata": {},
   "outputs": [],
   "source": [
    "from scripts.time_series_model_training import *"
   ]
  },
  {
   "cell_type": "code",
   "execution_count": 3,
   "metadata": {},
   "outputs": [],
   "source": [
    "forecaster = TimeSeriesForecaster(\"../data/normalized_BND_historical_data.csv\")"
   ]
  },
  {
   "cell_type": "code",
   "execution_count": 4,
   "metadata": {},
   "outputs": [],
   "source": [
    "BND_df = forecaster._load_data()"
   ]
  },
  {
   "cell_type": "code",
   "execution_count": 5,
   "metadata": {},
   "outputs": [],
   "source": [
    "forecaster.split_data()"
   ]
  },
  {
   "cell_type": "code",
   "execution_count": 6,
   "metadata": {},
   "outputs": [],
   "source": [
    "xs, ys = forecaster.create_sequences(BND_df, 90)"
   ]
  },
  {
   "cell_type": "code",
   "execution_count": 7,
   "metadata": {},
   "outputs": [
    {
     "name": "stdout",
     "output_type": "stream",
     "text": [
      "Performing stepwise search to minimize aic\n",
      " ARIMA(0,1,0)(0,0,0)[0] intercept   : AIC=-4133.131, Time=0.52 sec\n",
      " ARIMA(1,1,0)(0,0,0)[0] intercept   : AIC=-4131.131, Time=0.92 sec\n",
      " ARIMA(0,1,1)(0,0,0)[0] intercept   : AIC=-4131.131, Time=6.93 sec\n",
      " ARIMA(0,1,0)(0,0,0)[0]             : AIC=-4135.057, Time=0.21 sec\n",
      " ARIMA(1,1,1)(0,0,0)[0] intercept   : AIC=-4138.717, Time=17.28 sec\n",
      " ARIMA(2,1,1)(0,0,0)[0] intercept   : AIC=-4154.080, Time=24.74 sec\n",
      " ARIMA(2,1,0)(0,0,0)[0] intercept   : AIC=-4151.246, Time=5.35 sec\n",
      " ARIMA(3,1,1)(0,0,0)[0] intercept   : AIC=-4159.449, Time=27.58 sec\n",
      " ARIMA(3,1,0)(0,0,0)[0] intercept   : AIC=-4160.083, Time=6.65 sec\n",
      " ARIMA(4,1,0)(0,0,0)[0] intercept   : AIC=-4161.709, Time=5.58 sec\n",
      " ARIMA(5,1,0)(0,0,0)[0] intercept   : AIC=-4170.000, Time=3.67 sec\n",
      " ARIMA(5,1,1)(0,0,0)[0] intercept   : AIC=-4168.243, Time=7.30 sec\n",
      " ARIMA(4,1,1)(0,0,0)[0] intercept   : AIC=-4163.498, Time=3.92 sec\n",
      " ARIMA(5,1,0)(0,0,0)[0]             : AIC=-4171.914, Time=0.88 sec\n",
      " ARIMA(4,1,0)(0,0,0)[0]             : AIC=-4163.615, Time=0.40 sec\n",
      " ARIMA(5,1,1)(0,0,0)[0]             : AIC=-4169.970, Time=0.34 sec\n",
      " ARIMA(4,1,1)(0,0,0)[0]             : AIC=-4165.411, Time=1.48 sec\n",
      "\n",
      "Best model:  ARIMA(5,1,0)(0,0,0)[0]          \n",
      "Total fit time: 113.772 seconds\n"
     ]
    }
   ],
   "source": [
    "forecaster.train_arima()"
   ]
  }
 ],
 "metadata": {
  "kernelspec": {
   "display_name": "week_11",
   "language": "python",
   "name": "python3"
  },
  "language_info": {
   "codemirror_mode": {
    "name": "ipython",
    "version": 3
   },
   "file_extension": ".py",
   "mimetype": "text/x-python",
   "name": "python",
   "nbconvert_exporter": "python",
   "pygments_lexer": "ipython3",
   "version": "3.12.4"
  }
 },
 "nbformat": 4,
 "nbformat_minor": 2
}
