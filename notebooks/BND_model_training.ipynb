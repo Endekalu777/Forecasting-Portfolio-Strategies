{
 "cells": [
  {
   "cell_type": "code",
   "execution_count": 1,
   "metadata": {},
   "outputs": [],
   "source": [
    "import sys\n",
    "import os\n",
    "sys.path.append(os.path.abspath(os.path.join('..')))"
   ]
  },
  {
   "cell_type": "code",
   "execution_count": 2,
   "metadata": {},
   "outputs": [],
   "source": [
    "from scripts.time_series_model_training import *"
   ]
  },
  {
   "cell_type": "code",
   "execution_count": 3,
   "metadata": {},
   "outputs": [],
   "source": [
    "forecaster = TimeSeriesForecaster(\"../data/normalized_BND_historical_data.csv\")"
   ]
  },
  {
   "cell_type": "code",
   "execution_count": 4,
   "metadata": {},
   "outputs": [],
   "source": [
    "BND_df = forecaster._load_data()"
   ]
  },
  {
   "cell_type": "code",
   "execution_count": 5,
   "metadata": {},
   "outputs": [],
   "source": [
    "forecaster.split_data()"
   ]
  },
  {
   "cell_type": "code",
   "execution_count": 6,
   "metadata": {},
   "outputs": [],
   "source": [
    "xs, ys = forecaster.create_sequences(BND_df, 90)"
   ]
  },
  {
   "cell_type": "code",
   "execution_count": 7,
   "metadata": {},
   "outputs": [
    {
     "name": "stdout",
     "output_type": "stream",
     "text": [
      "Performing stepwise search to minimize aic\n",
      " ARIMA(0,1,0)(0,0,0)[0] intercept   : AIC=-4133.131, Time=0.85 sec\n",
      " ARIMA(1,1,0)(0,0,0)[0] intercept   : AIC=-4131.131, Time=0.78 sec\n",
      " ARIMA(0,1,1)(0,0,0)[0] intercept   : AIC=-4131.131, Time=2.66 sec\n",
      " ARIMA(0,1,0)(0,0,0)[0]             : AIC=-4135.057, Time=0.13 sec\n",
      " ARIMA(1,1,1)(0,0,0)[0] intercept   : AIC=-4138.717, Time=16.28 sec\n",
      " ARIMA(2,1,1)(0,0,0)[0] intercept   : AIC=-4154.080, Time=35.21 sec\n",
      " ARIMA(2,1,0)(0,0,0)[0] intercept   : AIC=-4151.246, Time=7.98 sec\n",
      " ARIMA(3,1,1)(0,0,0)[0] intercept   : AIC=-4159.449, Time=47.78 sec\n",
      " ARIMA(3,1,0)(0,0,0)[0] intercept   : AIC=-4160.083, Time=10.16 sec\n",
      " ARIMA(4,1,0)(0,0,0)[0] intercept   : AIC=-4161.709, Time=20.09 sec\n",
      " ARIMA(5,1,0)(0,0,0)[0] intercept   : AIC=-4170.000, Time=23.76 sec\n",
      " ARIMA(5,1,1)(0,0,0)[0] intercept   : AIC=-4168.243, Time=44.81 sec\n",
      " ARIMA(4,1,1)(0,0,0)[0] intercept   : AIC=-4163.498, Time=49.03 sec\n",
      " ARIMA(5,1,0)(0,0,0)[0]             : AIC=-4171.914, Time=18.23 sec\n",
      " ARIMA(4,1,0)(0,0,0)[0]             : AIC=-4163.615, Time=8.22 sec\n",
      " ARIMA(5,1,1)(0,0,0)[0]             : AIC=-4169.970, Time=5.80 sec\n",
      " ARIMA(4,1,1)(0,0,0)[0]             : AIC=-4165.411, Time=40.27 sec\n",
      "\n",
      "Best model:  ARIMA(5,1,0)(0,0,0)[0]          \n",
      "Total fit time: 332.077 seconds\n"
     ]
    }
   ],
   "source": [
    "forecaster.train_arima()"
   ]
  },
  {
   "cell_type": "code",
   "execution_count": 8,
   "metadata": {},
   "outputs": [
    {
     "name": "stdout",
     "output_type": "stream",
     "text": [
      "Performing stepwise search to minimize aic\n",
      " ARIMA(0,1,0)(0,1,0)[5]             : AIC=-3169.770, Time=0.26 sec\n",
      " ARIMA(1,1,0)(1,1,0)[5]             : AIC=-3535.201, Time=19.55 sec\n",
      " ARIMA(0,1,1)(0,1,1)[5]             : AIC=inf, Time=31.62 sec\n",
      " ARIMA(1,1,0)(0,1,0)[5]             : AIC=-3170.865, Time=0.48 sec\n",
      " ARIMA(1,1,0)(2,1,0)[5]             : AIC=-3689.459, Time=16.54 sec\n",
      " ARIMA(1,1,0)(2,1,1)[5]             : AIC=inf, Time=43.64 sec\n",
      " ARIMA(1,1,0)(1,1,1)[5]             : AIC=inf, Time=26.30 sec\n",
      " ARIMA(0,1,0)(2,1,0)[5]             : AIC=-3691.353, Time=1.94 sec\n",
      " ARIMA(0,1,0)(1,1,0)[5]             : AIC=-3536.829, Time=2.28 sec\n",
      " ARIMA(0,1,0)(2,1,1)[5]             : AIC=inf, Time=21.76 sec\n",
      " ARIMA(0,1,0)(1,1,1)[5]             : AIC=inf, Time=15.19 sec\n",
      " ARIMA(0,1,1)(2,1,0)[5]             : AIC=-3689.479, Time=11.54 sec\n",
      " ARIMA(1,1,1)(2,1,0)[5]             : AIC=-3687.366, Time=10.99 sec\n",
      " ARIMA(0,1,0)(2,1,0)[5] intercept   : AIC=-3689.356, Time=6.92 sec\n",
      "\n",
      "Best model:  ARIMA(0,1,0)(2,1,0)[5]          \n",
      "Total fit time: 209.134 seconds\n"
     ]
    }
   ],
   "source": [
    "forecaster.train_sarima()"
   ]
  },
  {
   "cell_type": "code",
   "execution_count": null,
   "metadata": {},
   "outputs": [],
   "source": []
  }
 ],
 "metadata": {
  "kernelspec": {
   "display_name": "week_11",
   "language": "python",
   "name": "python3"
  },
  "language_info": {
   "codemirror_mode": {
    "name": "ipython",
    "version": 3
   },
   "file_extension": ".py",
   "mimetype": "text/x-python",
   "name": "python",
   "nbconvert_exporter": "python",
   "pygments_lexer": "ipython3",
   "version": "3.12.4"
  }
 },
 "nbformat": 4,
 "nbformat_minor": 2
}
